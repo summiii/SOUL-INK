{
  "nbformat": 4,
  "nbformat_minor": 0,
  "metadata": {
    "colab": {
      "provenance": []
    },
    "kernelspec": {
      "name": "python3",
      "display_name": "Python 3"
    },
    "language_info": {
      "name": "python"
    }
  },
  "cells": [
    {
      "cell_type": "code",
      "execution_count": 7,
      "metadata": {
        "colab": {
          "base_uri": "https://localhost:8080/"
        },
        "id": "vM7gFr5e6MQo",
        "outputId": "da113154-f266-4336-facd-e57f3765d86e"
      },
      "outputs": [
        {
          "output_type": "stream",
          "name": "stdout",
          "text": [
            "\u001b[2K     \u001b[90m━━━━━━━━━━━━━━━━━━━━━━━━━━━━━━━━━━━━━━━━\u001b[0m \u001b[32m12.8/12.8 MB\u001b[0m \u001b[31m47.4 MB/s\u001b[0m eta \u001b[36m0:00:00\u001b[0m\n",
            "\u001b[?25h\u001b[38;5;2m✔ Download and installation successful\u001b[0m\n",
            "You can now load the package via spacy.load('en_core_web_sm')\n",
            "\u001b[38;5;3m⚠ Restart to reload dependencies\u001b[0m\n",
            "If you are in a Jupyter or Colab notebook, you may need to restart Python in\n",
            "order to load all the package's dependencies. You can do this by selecting the\n",
            "'Restart kernel' or 'Restart runtime' option.\n"
          ]
        }
      ],
      "source": [
        "# System (audio conversion) + Python libs\n",
        "!apt-get -yqq install ffmpeg\n",
        "!pip -q install streamlit pyngrok transformers torch==2.3.1 spacy plotly SpeechRecognition pydub\n",
        "!python -m spacy download en_core_web_sm -q\n"
      ]
    },
    {
      "cell_type": "code",
      "source": [
        "%%writefile app.py\n",
        "# SOUL-INK — The AI That Listens (Anonymous, No DB)\n",
        "# 6dainn neon-purple aesthetic • Voice input (upload) • Streamlit\n",
        "\n",
        "import io, json, time, tempfile\n",
        "from collections import Counter\n",
        "from datetime import datetime\n",
        "\n",
        "import streamlit as st\n",
        "import plotly.express as px\n",
        "\n",
        "# ---------- Privacy: session-only ----------\n",
        "if \"entries\" not in st.session_state: st.session_state.entries = []\n",
        "if \"start_ts\" not in st.session_state: st.session_state.start_ts = time.time()\n",
        "if \"voice_text\" not in st.session_state: st.session_state.voice_text = \"\"\n",
        "\n",
        "# ---------- Lazy model loaders ----------\n",
        "@st.cache_resource\n",
        "def load_spacy():\n",
        "    import spacy\n",
        "    return spacy.load(\"en_core_web_sm\")\n",
        "\n",
        "@st.cache_resource\n",
        "def load_emotion_pipe():\n",
        "    from transformers import AutoTokenizer, AutoModelForSequenceClassification, TextClassificationPipeline\n",
        "    model = \"joeddav/distilbert-base-uncased-go-emotions\"\n",
        "    tok = AutoTokenizer.from_pretrained(model)\n",
        "    mdl = AutoModelForSequenceClassification.from_pretrained(model)\n",
        "    pipe = TextClassificationPipeline(model=mdl, tokenizer=tok, return_all_scores=True, function_to_apply=\"sigmoid\")\n",
        "    return pipe, mdl.config.id2label\n",
        "\n",
        "nlp = load_spacy()\n",
        "emo_pipe, id2label = load_emotion_pipe()\n",
        "\n",
        "# ---------- Config ----------\n",
        "EMO_GROUPS = {\n",
        "    \"joy\": {\"joy\",\"amusement\",\"excitement\",\"gratitude\",\"love\",\"optimism\",\"pride\",\"relief\",\"admiration\"},\n",
        "    \"sadness\": {\"sadness\",\"disappointment\",\"embarrassment\",\"grief\",\"remorse\"},\n",
        "    \"anger\": {\"anger\",\"annoyance\",\"disgust\"},\n",
        "    \"fear\": {\"fear\",\"nervousness\",\"apprehension\"},\n",
        "    \"shame\": {\"guilt\",\"shame\"},\n",
        "    \"neutral\": {\"neutral\"}\n",
        "}\n",
        "\n",
        "QUESTION_SETS = {\n",
        "    \"joy\": [\n",
        "        \"What exactly made this feel good—and how can you recreate it tomorrow?\",\n",
        "        \"If you bottled this moment into one habit, what would it be?\"\n",
        "    ],\n",
        "    \"sadness\": [\n",
        "        \"What loss or unmet need sits underneath this feeling?\",\n",
        "        \"If a kind friend spoke now, what would they say word-for-word?\"\n",
        "    ],\n",
        "    \"anger\": [\n",
        "        \"Which boundary was crossed? What outcome would feel fair and specific?\",\n",
        "        \"Is anger protecting a softer emotion (hurt, fear)? What signals that?\"\n",
        "    ],\n",
        "    \"fear\": [\n",
        "        \"What is the feared outcome, and how likely is it (0–100%) realistically?\",\n",
        "        \"What would ‘prepared’ look like in the next 10 minutes?\"\n",
        "    ],\n",
        "    \"shame\": [\n",
        "        \"Whose standards are you using to judge yourself right now?\",\n",
        "        \"What concrete evidence challenges the harsh self-story?\"\n",
        "    ],\n",
        "    \"neutral\": [\n",
        "        \"What matters most today, and why that—not something else?\",\n",
        "        \"Name one tiny action that moves you 1% toward it.\"\n",
        "    ]\n",
        "}\n",
        "\n",
        "COPING = {\n",
        "    \"joy\": [\n",
        "        \"Savoring: write 3 lines about what went right and how to repeat it.\",\n",
        "        \"Gratitude micro-note: message someone who contributed to this moment.\"\n",
        "    ],\n",
        "    \"sadness\": [\n",
        "        \"Reframe: list 2 facts vs 2 interpretations; challenge the interpretation.\",\n",
        "        \"Activation: pick one 10-minute task that slightly improves your day.\"\n",
        "    ],\n",
        "    \"anger\": [\n",
        "        \"Boundary script: I feel __ when __. I need __. If not, I will __.\",\n",
        "        \"Box breathing 4-4-4-4 for 2 minutes; then write the request you’ll make.\"\n",
        "    ],\n",
        "    \"fear\": [\n",
        "        \"Grounding 5-4-3-2-1 (see, touch, hear, smell, taste).\",\n",
        "        \"Control check: list 3 worries; tag each controllable/not; act on controllable.\"\n",
        "    ],\n",
        "    \"shame\": [\n",
        "        \"Self-compassion: write to yourself exactly as you would to a close friend.\",\n",
        "        \"Evidence scan: list proof for/against the core negative belief.\"\n",
        "    ],\n",
        "    \"neutral\": [\n",
        "        \"Body scan: relax jaw/shoulders; 2 minutes of breath.\",\n",
        "        \"Tiny win: choose a 5-minute action that’s meaningful, not perfect.\"\n",
        "    ]\n",
        "}\n",
        "\n",
        "CRISIS_KEYWORDS = {\n",
        "    \"suicide\",\"kill myself\",\"end it\",\"self harm\",\"self-harm\",\"cutting\",\n",
        "    \"no reason to live\",\"overdose\",\"i want to die\",\"i want die\",\"i want end\"\n",
        "}\n",
        "\n",
        "DISCLAIMER = (\n",
        "    \"SOUL-INK is not therapy or medical advice. If you feel unsafe or in crisis, \"\n",
        "    \"contact local emergency services or a trusted hotline.\"\n",
        ")\n",
        "\n",
        "# ---------- Helpers ----------\n",
        "def detect_crisis(text:str)->bool:\n",
        "    t = text.lower()\n",
        "    return any(k in t for k in CRISIS_KEYWORDS)\n",
        "\n",
        "def coarse_emotions(raw_scores, threshold=0.30, top_k=3):\n",
        "    grouped = {g:0.0 for g in EMO_GROUPS}\n",
        "    for s in raw_scores:\n",
        "        lab, sc = s[\"label\"], float(s[\"score\"])\n",
        "        for g, members in EMO_GROUPS.items():\n",
        "            if lab in members and sc > grouped[g]:\n",
        "                grouped[g] = sc\n",
        "    keep = {k:round(v,3) for k,v in grouped.items() if v>=threshold}\n",
        "    if keep: return keep\n",
        "    return {k:round(v,3) for k,v in dict(sorted(grouped.items(), key=lambda x:x[1], reverse=True)[:top_k]).items()}\n",
        "\n",
        "def extract_triggers(text:str, max_terms=6):\n",
        "    doc = nlp(text)\n",
        "    chunks = [c.text.strip().lower() for c in doc.noun_chunks if len(c.text.strip())>1]\n",
        "    tokens = [t.lemma_.lower() for t in doc if t.is_alpha and not t.is_stop]\n",
        "    common = [w for w,_ in Counter(tokens).most_common(10)]\n",
        "    seen, out = set(), []\n",
        "    for x in chunks + common:\n",
        "        if x not in seen:\n",
        "            seen.add(x); out.append(x)\n",
        "        if len(out)>=max_terms: break\n",
        "    return out\n",
        "\n",
        "# ---------- Theme ----------\n",
        "st.set_page_config(page_title=\"SOUL-INK — The AI That Listens\", page_icon=\"💜\", layout=\"wide\")\n",
        "st.markdown('''\n",
        "<style>\n",
        ":root { --ink: #a855f7; }\n",
        ".stApp { background: radial-gradient(1200px 800px at 20% 10%, #1b0f28 0%, #0b0712 60%, #08060d 100%); }\n",
        "h1, h2, h3, h4 { color: #e9d5ff !important; }\n",
        ".block-container { padding-top: 1.5rem; }\n",
        ".stButton>button { background: var(--ink); color:white; border-radius:12px; }\n",
        "</style>\n",
        "''', unsafe_allow_html=True)\n",
        "\n",
        "# ---------- Header ----------\n",
        "st.title(\"SOUL-INK — The AI That Listens\")\n",
        "st.caption(\"6dainn neon-purple • Anonymous by design (no database) • Voice or text\")\n",
        "st.warning(DISCLAIMER)\n",
        "\n",
        "with st.expander(\"Privacy & Controls\", expanded=False):\n",
        "    c1,c2,c3 = st.columns(3)\n",
        "    with c1:\n",
        "        if st.button(\"Export session (.json)\"):\n",
        "            buf = io.BytesIO(json.dumps(st.session_state.entries, ensure_ascii=False, indent=2).encode(\"utf-8\"))\n",
        "            st.download_button(\"Download export\", buf, file_name=f\"soul-ink_{int(time.time())}.json\", mime=\"application/json\")\n",
        "    with c2:\n",
        "        if st.button(\"Delete all data\"):\n",
        "            st.session_state.entries = []\n",
        "            st.success(\"Session data deleted.\")\n",
        "    with c3:\n",
        "        st.write(f\"Session length: {int(time.time()-st.session_state.start_ts)}s\")\n",
        "\n",
        "left, right = st.columns([0.55, 0.45])\n",
        "\n",
        "with left:\n",
        "    st.subheader(\"Tell me what’s on your mind\")\n",
        "\n",
        "    # ---------- VOICE INPUT (upload -> transcription) ----------\n",
        "    st.write(\"Prefer to talk instead of type?\")\n",
        "    audio_file = st.file_uploader(\"Upload a short voice note (MP3/WAV/M4A)\", type=[\"mp3\",\"wav\",\"m4a\"])\n",
        "    if audio_file is not None:\n",
        "        # Save uploaded audio to temp\n",
        "        tmp_in = tempfile.NamedTemporaryFile(delete=False)\n",
        "        tmp_in.write(audio_file.read()); tmp_in.flush(); tmp_in.close()\n",
        "\n",
        "        # Convert to WAV if needed using pydub/ffmpeg\n",
        "        in_path = tmp_in.name\n",
        "        ext = (audio_file.name.split(\".\")[-1] or \"\").lower()\n",
        "        wav_path = in_path\n",
        "        if ext != \"wav\":\n",
        "            try:\n",
        "                from pydub import AudioSegment\n",
        "                sound = AudioSegment.from_file(in_path, format=ext)\n",
        "                wav_path = in_path + \".wav\"\n",
        "                sound.export(wav_path, format=\"wav\")\n",
        "            except Exception as e:\n",
        "                st.error(f\"Audio conversion failed: {e}\")\n",
        "\n",
        "        # Transcribe with SpeechRecognition (Google free recognizer)\n",
        "        try:\n",
        "            import speech_recognition as sr\n",
        "            r = sr.Recognizer()\n",
        "            with sr.AudioFile(wav_path) as src:\n",
        "                audio_data = r.record(src)\n",
        "            text_from_audio = r.recognize_google(audio_data)\n",
        "            st.session_state.voice_text = text_from_audio\n",
        "            st.success(\"Voice transcribed:\")\n",
        "            st.write(text_from_audio)\n",
        "        except Exception as e:\n",
        "            st.error(f\"Could not transcribe audio: {e}\")\n",
        "\n",
        "    # ---------- Unified text area ----------\n",
        "    user_input = st.text_area(\n",
        "        \"Type or edit your thought below:\",\n",
        "        value=st.session_state.get(\"voice_text\", \"\"),\n",
        "        height=170,\n",
        "        placeholder=\"Speak or write whatever’s on your mind...\"\n",
        "    )\n",
        "\n",
        "    if st.button(\"Reflect\", type=\"primary\"):\n",
        "        txt = (user_input or \"\").strip()\n",
        "        if not txt:\n",
        "            st.info(\"Say or write a few sentences first.\")\n",
        "        else:\n",
        "            if detect_crisis(txt):\n",
        "                st.error(\"I’m hearing crisis language. You matter. Please consider reaching out to a trusted person or local emergency services.\")\n",
        "            preds = emo_pipe(txt)[0]\n",
        "            top_raw = sorted(preds, key=lambda d: d[\"score\"], reverse=True)[:6]\n",
        "            coarse = coarse_emotions(top_raw, threshold=0.30, top_k=3)\n",
        "            primary = max(coarse, key=lambda k: coarse[k]) if coarse else \"neutral\"\n",
        "            trigs = extract_triggers(txt)\n",
        "\n",
        "            qs = QUESTION_SETS.get(primary, QUESTION_SETS[\"neutral\"])[:2]\n",
        "            acts = COPING.get(primary, COPING[\"neutral\"])[:2]\n",
        "\n",
        "            row = {\n",
        "                \"ts\": datetime.utcnow().isoformat(timespec=\"seconds\")+\"Z\",\n",
        "                \"text\": txt, \"emotions\": coarse, \"primary\": primary,\n",
        "                \"triggers\": trigs, \"questions\": qs, \"actions\": acts\n",
        "            }\n",
        "            st.session_state.entries.append(row)\n",
        "\n",
        "            st.success(\"I’m here. Here’s what I’m noticing and wondering:\")\n",
        "            st.markdown(f\"**Primary emotion:** `{primary}`  •  **Signals:** \" +\n",
        "                        (\", \".join([f\"{k}:{v}\" for k,v in coarse.items()]) if coarse else \"—\"))\n",
        "            if trigs:\n",
        "                st.markdown(\"**Possible themes:** \" + \", \".join(trigs))\n",
        "            st.markdown(\"**Questions to explore**\")\n",
        "            for q in qs: st.write(\"• \" + q)\n",
        "            st.markdown(\"**Coping steps**\")\n",
        "            for a in acts: st.write(\"• \" + a)\n",
        "\n",
        "with right:\n",
        "    st.subheader(\"Your week at a glance\")\n",
        "    if st.session_state.entries:\n",
        "        times = [e[\"ts\"] for e in st.session_state.entries]\n",
        "        prims = [e[\"primary\"] for e in st.session_state.entries]\n",
        "        df = {\"time\": times, \"emotion\": prims}\n",
        "        fig = px.scatter(df, x=\"time\", y=[\"emotion\"]*len(times), hover_name=prims, title=\"Primary emotion timeline\")\n",
        "        fig.update_traces(marker_size=12, selector=dict(mode=\"markers\"))\n",
        "        fig.update_yaxes(visible=False, showticklabels=False)\n",
        "        st.plotly_chart(fig, use_container_width=True)\n",
        "\n",
        "        all_trigs = []\n",
        "        for e in st.session_state.entries: all_trigs.extend(e[\"triggers\"])\n",
        "        if all_trigs:\n",
        "            from collections import Counter\n",
        "            cts = Counter(all_trigs)\n",
        "            st.markdown(\"**Top themes:** \" + \", \".join([f\"{k} ({v})\" for k,v in cts.most_common(20)]))\n",
        "    else:\n",
        "        st.info(\"Insights appear after your first reflection.\")\n",
        "\n",
        "st.caption(\"Built for NavHacks 2025 • Transformers + spaCy + Streamlit • Voice upload • Anonymous by design.\")\n"
      ],
      "metadata": {
        "colab": {
          "base_uri": "https://localhost:8080/"
        },
        "id": "OiwbNyQ46dsb",
        "outputId": "d8fb232a-9654-4626-cbbc-83d16f4a71b8"
      },
      "execution_count": 8,
      "outputs": [
        {
          "output_type": "stream",
          "name": "stdout",
          "text": [
            "Overwriting app.py\n"
          ]
        }
      ]
    },
    {
      "cell_type": "code",
      "source": [
        "# Kill old Streamlit/ngrok processes so they don't block the port\n",
        "import os, signal, subprocess, re\n",
        "\n",
        "def kill(pattern):\n",
        "    try:\n",
        "        out = subprocess.check_output([\"ps\",\"-ef\"]).decode()\n",
        "        for line in out.splitlines():\n",
        "            if pattern in line and \"grep\" not in line:\n",
        "                pid = int(re.split(r\"\\s+\", line)[1])\n",
        "                os.kill(pid, signal.SIGKILL)\n",
        "    except Exception as e:\n",
        "        print(\"kill error:\", e)\n",
        "\n",
        "kill(\"streamlit\")\n",
        "kill(\"ngrok\")\n",
        "print(\"✅ Killed old processes\")\n"
      ],
      "metadata": {
        "colab": {
          "base_uri": "https://localhost:8080/"
        },
        "id": "98mOzUPj6gkO",
        "outputId": "f09354a2-547a-4427-e993-28b140ddc65b"
      },
      "execution_count": 9,
      "outputs": [
        {
          "output_type": "stream",
          "name": "stdout",
          "text": [
            "✅ Killed old processes\n"
          ]
        }
      ]
    },
    {
      "cell_type": "code",
      "source": [
        "%%writefile sanity_app.py\n",
        "import streamlit as st\n",
        "st.title(\"Sanity check ✅\")\n",
        "st.write(\"If you can see this, Streamlit is fine.\")\n"
      ],
      "metadata": {
        "colab": {
          "base_uri": "https://localhost:8080/"
        },
        "id": "q8v_alMI6suG",
        "outputId": "cb9abc73-a9ce-42aa-f26a-b1e8daf39952"
      },
      "execution_count": 10,
      "outputs": [
        {
          "output_type": "stream",
          "name": "stdout",
          "text": [
            "Overwriting sanity_app.py\n"
          ]
        }
      ]
    },
    {
      "cell_type": "code",
      "source": [
        "# Try Colab proxy first to ensure we can open any Streamlit app\n",
        "import subprocess, time\n",
        "PORT = 8501\n",
        "proc = subprocess.Popen([\"streamlit\",\"run\",\"sanity_app.py\",\"--server.port\",str(PORT),\"--server.headless\",\"true\"])\n",
        "from time import sleep\n",
        "sleep(5)\n",
        "try:\n",
        "    from google.colab.output import eval_js\n",
        "    url = eval_js(f\"google.colab.kernel.proxyPort({PORT})\")\n",
        "    print(\"✅ Sanity URL:\", url)\n",
        "except Exception as e:\n",
        "    print(\"No Colab proxy. You can still use ngrok later. Err:\", e)\n"
      ],
      "metadata": {
        "colab": {
          "base_uri": "https://localhost:8080/",
          "height": 34
        },
        "id": "9oWOG29t6wpn",
        "outputId": "aeb09487-d8d2-477b-8edc-f7920a934b7d"
      },
      "execution_count": 11,
      "outputs": [
        {
          "output_type": "stream",
          "name": "stdout",
          "text": [
            "✅ Sanity URL: https://8501-m-s-2vb4gc9zrd1b-b.us-east1-1.prod.colab.dev\n"
          ]
        }
      ]
    },
    {
      "cell_type": "code",
      "source": [
        "# Leave empty to use Colab proxy; set only if you need an external URL\n",
        "NGROK_TOKEN = \"\""
      ],
      "metadata": {
        "id": "HFYXLROq62p-"
      },
      "execution_count": 12,
      "outputs": []
    },
    {
      "cell_type": "code",
      "source": [
        "import subprocess, time, re\n",
        "from pyngrok import ngrok\n",
        "\n",
        "PORT = 8501\n",
        "cmd = [\"streamlit\",\"run\",\"app.py\",\"--server.port\",str(PORT),\"--server.headless\",\"true\",\"--browser.gatherUsageStats\",\"false\"]\n",
        "proc = subprocess.Popen(cmd, stdout=subprocess.PIPE, stderr=subprocess.STDOUT, text=True)\n",
        "\n",
        "# show early logs (helps debug if it hangs)\n",
        "boot_log = []\n",
        "for _ in range(50):\n",
        "    line = proc.stdout.readline()\n",
        "    if not line: break\n",
        "    boot_log.append(line.rstrip())\n",
        "print(\"\\n\".join(boot_log))\n",
        "\n",
        "public_url = None\n",
        "\n",
        "# Prefer Colab proxy (no token needed)\n",
        "try:\n",
        "    from google.colab.output import eval_js\n",
        "    public_url = eval_js(f\"google.colab.kernel.proxyPort({PORT})\")\n",
        "except Exception:\n",
        "    public_url = None\n",
        "\n",
        "# Use ngrok only if token looks valid\n",
        "if not public_url and NGROK_TOKEN and re.match(r\"^[A-Za-z0-9_-]{20,}$\", NGROK_TOKEN):\n",
        "    try:\n",
        "        ngrok.set_auth_token(NGROK_TOKEN)\n",
        "        tunnel = ngrok.connect(PORT)\n",
        "        public_url = tunnel.public_url\n",
        "    except Exception as e:\n",
        "        print(\"⚠️ ngrok failed:\", e)\n",
        "\n",
        "time.sleep(3)\n",
        "print(\"Local URL:  http://localhost:8501\")\n",
        "print(\"Open URL:   \", public_url or \"Colab proxy unavailable; provide a valid NGROK_TOKEN.\")\n"
      ],
      "metadata": {
        "colab": {
          "base_uri": "https://localhost:8080/",
          "height": 69
        },
        "id": "C40_idiP6-Jo",
        "outputId": "d001f40d-6457-4bce-85d3-022eb5d790b1"
      },
      "execution_count": 13,
      "outputs": [
        {
          "output_type": "stream",
          "name": "stdout",
          "text": [
            "2025-10-15 17:41:40.772 Port 8501 is already in use\n",
            "Local URL:  http://localhost:8501\n",
            "Open URL:    https://8501-m-s-2vb4gc9zrd1b-b.us-east1-1.prod.colab.dev\n"
          ]
        }
      ]
    }
  ]
}